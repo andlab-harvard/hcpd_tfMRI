{
 "cells": [
  {
   "cell_type": "code",
   "execution_count": 1,
   "id": "05685ec6-236c-4770-bc00-99fbeb46d68e",
   "metadata": {},
   "outputs": [],
   "source": [
    "import os\n",
    "import re\n",
    "import pandas as pd\n",
    "import numpy as np\n"
   ]
  },
  {
   "cell_type": "code",
   "execution_count": 2,
   "id": "e2629d09-d4c9-4b0f-a7cb-02c08eb0b533",
   "metadata": {},
   "outputs": [],
   "source": [
    "hcpd_dir = '/ncf/hcp/data/HCD-tfMRI-MultiRunFix'\n",
    "scan_re = re.compile(r'tfMRI_(?:CARIT|GUESSING)_(?:AP|PA)')\n",
    "PID_re = re.compile(r'^HCD\\d{7}_V[123]_MR')\n",
    "feat_re = re.compile(r'.*\\.feat$')\n",
    "session_ids = [f for f in os.listdir(hcpd_dir) if PID_re.match(f)]"
   ]
  },
  {
   "cell_type": "code",
   "execution_count": 3,
   "id": "e3a42c4b-a851-4cf7-b7ae-b46c9b71fca4",
   "metadata": {},
   "outputs": [],
   "source": [
    "all_dirs = {'session_id': [], 'task': [], 'feat': []}"
   ]
  },
  {
   "cell_type": "code",
   "execution_count": 4,
   "id": "7973bccc-c608-49b8-8050-089faf6d2ef0",
   "metadata": {},
   "outputs": [],
   "source": [
    "for session_id in session_ids:\n",
    "    pid_dir = os.path.join(hcpd_dir, session_id, 'MNINonLinear', 'Results')\n",
    "    tasks = []\n",
    "    if os.path.isdir(pid_dir):\n",
    "        tasks = [f for f in os.listdir(pid_dir) if scan_re.match(f)]\n",
    "    if not tasks:\n",
    "        all_dirs['session_id'].append(session_id)\n",
    "        all_dirs['task'].append(np.nan)\n",
    "        all_dirs['feat'].append(np.nan)\n",
    "    else:\n",
    "        for task in tasks:\n",
    "            task_dir = os.path.join(pid_dir, task)\n",
    "            feats = []\n",
    "            if os.path.isdir(task_dir):\n",
    "                feats = [f for f in os.listdir(task_dir) if feat_re.match(f)]\n",
    "            if not feats:\n",
    "                all_dirs['session_id'].append(session_id)\n",
    "                all_dirs['task'].append(task)\n",
    "                all_dirs['feat'].append(np.nan)\n",
    "            else:\n",
    "                for feat in feats:\n",
    "                    all_dirs['session_id'].append(session_id)\n",
    "                    all_dirs['task'].append(task)\n",
    "                    all_dirs['feat'].append(feat)"
   ]
  },
  {
   "cell_type": "code",
   "execution_count": 5,
   "id": "b16dcde8-75ef-4963-8307-45956f137bc4",
   "metadata": {},
   "outputs": [],
   "source": [
    "targets = pd.DataFrame.from_dict(all_dirs)"
   ]
  },
  {
   "cell_type": "code",
   "execution_count": 16,
   "id": "f344245f-ca1f-4f51-ae7d-12f794a97347",
   "metadata": {},
   "outputs": [
    {
     "data": {
      "text/html": [
       "<div>\n",
       "<style scoped>\n",
       "    .dataframe tbody tr th:only-of-type {\n",
       "        vertical-align: middle;\n",
       "    }\n",
       "\n",
       "    .dataframe tbody tr th {\n",
       "        vertical-align: top;\n",
       "    }\n",
       "\n",
       "    .dataframe thead th {\n",
       "        text-align: right;\n",
       "    }\n",
       "</style>\n",
       "<table border=\"1\" class=\"dataframe\">\n",
       "  <thead>\n",
       "    <tr style=\"text-align: right;\">\n",
       "      <th></th>\n",
       "      <th>session_id</th>\n",
       "      <th>task</th>\n",
       "      <th>feat</th>\n",
       "    </tr>\n",
       "  </thead>\n",
       "  <tbody>\n",
       "    <tr>\n",
       "      <th>94</th>\n",
       "      <td>HCD0921347_V1_MR</td>\n",
       "      <td>tfMRI_CARIT_AP</td>\n",
       "      <td>NaN</td>\n",
       "    </tr>\n",
       "    <tr>\n",
       "      <th>249</th>\n",
       "      <td>HCD0679770_V1_MR</td>\n",
       "      <td>tfMRI_CARIT_AP</td>\n",
       "      <td>NaN</td>\n",
       "    </tr>\n",
       "    <tr>\n",
       "      <th>415</th>\n",
       "      <td>HCD1945164_V1_MR</td>\n",
       "      <td>tfMRI_CARIT_AP</td>\n",
       "      <td>NaN</td>\n",
       "    </tr>\n",
       "    <tr>\n",
       "      <th>430</th>\n",
       "      <td>HCD0039128_V1_MR</td>\n",
       "      <td>tfMRI_CARIT_AP</td>\n",
       "      <td>NaN</td>\n",
       "    </tr>\n",
       "    <tr>\n",
       "      <th>432</th>\n",
       "      <td>HCD0039128_V1_MR</td>\n",
       "      <td>tfMRI_GUESSING_AP</td>\n",
       "      <td>NaN</td>\n",
       "    </tr>\n",
       "    <tr>\n",
       "      <th>...</th>\n",
       "      <td>...</td>\n",
       "      <td>...</td>\n",
       "      <td>...</td>\n",
       "    </tr>\n",
       "    <tr>\n",
       "      <th>6148</th>\n",
       "      <td>HCD2936875_V2_MR</td>\n",
       "      <td>tfMRI_CARIT_AP</td>\n",
       "      <td>NaN</td>\n",
       "    </tr>\n",
       "    <tr>\n",
       "      <th>6150</th>\n",
       "      <td>HCD2936875_V2_MR</td>\n",
       "      <td>tfMRI_GUESSING_AP</td>\n",
       "      <td>NaN</td>\n",
       "    </tr>\n",
       "    <tr>\n",
       "      <th>6152</th>\n",
       "      <td>HCD2936875_V3_MR</td>\n",
       "      <td>tfMRI_CARIT_AP</td>\n",
       "      <td>NaN</td>\n",
       "    </tr>\n",
       "    <tr>\n",
       "      <th>6154</th>\n",
       "      <td>HCD2936875_V3_MR</td>\n",
       "      <td>tfMRI_GUESSING_AP</td>\n",
       "      <td>NaN</td>\n",
       "    </tr>\n",
       "    <tr>\n",
       "      <th>6156</th>\n",
       "      <td>HCD2937473_V1_MR</td>\n",
       "      <td>tfMRI_CARIT_AP</td>\n",
       "      <td>NaN</td>\n",
       "    </tr>\n",
       "  </tbody>\n",
       "</table>\n",
       "<p>110 rows × 3 columns</p>\n",
       "</div>"
      ],
      "text/plain": [
       "            session_id               task feat\n",
       "94    HCD0921347_V1_MR     tfMRI_CARIT_AP  NaN\n",
       "249   HCD0679770_V1_MR     tfMRI_CARIT_AP  NaN\n",
       "415   HCD1945164_V1_MR     tfMRI_CARIT_AP  NaN\n",
       "430   HCD0039128_V1_MR     tfMRI_CARIT_AP  NaN\n",
       "432   HCD0039128_V1_MR  tfMRI_GUESSING_AP  NaN\n",
       "...                ...                ...  ...\n",
       "6148  HCD2936875_V2_MR     tfMRI_CARIT_AP  NaN\n",
       "6150  HCD2936875_V2_MR  tfMRI_GUESSING_AP  NaN\n",
       "6152  HCD2936875_V3_MR     tfMRI_CARIT_AP  NaN\n",
       "6154  HCD2936875_V3_MR  tfMRI_GUESSING_AP  NaN\n",
       "6156  HCD2937473_V1_MR     tfMRI_CARIT_AP  NaN\n",
       "\n",
       "[110 rows x 3 columns]"
      ]
     },
     "execution_count": 16,
     "metadata": {},
     "output_type": "execute_result"
    }
   ],
   "source": [
    "targets[targets.feat.isna()]"
   ]
  },
  {
   "cell_type": "code",
   "execution_count": 25,
   "id": "ea8db693-9f53-4bf1-adbe-8b1668b0851b",
   "metadata": {},
   "outputs": [
    {
     "name": "stdout",
     "output_type": "stream",
     "text": [
      "1661\n",
      "1649\n",
      "12\n"
     ]
    }
   ],
   "source": [
    "print(len(targets.session_id.unique()))\n",
    "print(len(targets[~targets.feat.isna()].session_id.unique()))\n",
    "print(len(targets.session_id.unique()) - len(targets[~targets.feat.isna()].session_id.unique()))"
   ]
  },
  {
   "cell_type": "code",
   "execution_count": null,
   "id": "1d285ba0-e113-4a7b-9195-bb4d75516f3d",
   "metadata": {},
   "outputs": [],
   "source": []
  }
 ],
 "metadata": {
  "kernelspec": {
   "display_name": "Python [conda env:.conda-hcpl]",
   "language": "python",
   "name": "conda-env-.conda-hcpl-py"
  },
  "language_info": {
   "codemirror_mode": {
    "name": "ipython",
    "version": 3
   },
   "file_extension": ".py",
   "mimetype": "text/x-python",
   "name": "python",
   "nbconvert_exporter": "python",
   "pygments_lexer": "ipython3",
   "version": "3.7.7"
  }
 },
 "nbformat": 4,
 "nbformat_minor": 5
}
