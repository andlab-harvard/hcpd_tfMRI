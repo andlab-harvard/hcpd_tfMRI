{
 "cells": [
  {
   "cell_type": "code",
   "execution_count": 30,
   "metadata": {},
   "outputs": [
    {
     "name": "stdout",
     "output_type": "stream",
     "text": [
      "Exporting list of missing DTSeries...\n"
     ]
    }
   ],
   "source": [
    "from os import walk, listdir, path\n",
    "import re \n",
    "import pandas as pd\n",
    "import numpy as np\n",
    "hcpdir='/ncf/hcp/data/HCD-tfMRI-MultiRunFix'\n",
    "print('Getting ID dirs')\n",
    "id_dirs=[adir for adir in listdir(hcpdir) if match(r\"HCD[0-9]{7}_V1_MR\", adir)]\n",
    "\n",
    "def check_dtseries(id_dir, basedir):\n",
    "    print('Checking for ' + id_dir)\n",
    "    pattern = re.compile('tfMRI_.*_Atlas_hp0_clean.dtseries.nii')\n",
    "    dirpostfix = 'MNINonLinear/Results'\n",
    "    full_id_dir = '/'.join([hcpdir,id_dir, dirpostfix])\n",
    "    if path.isdir(full_id_dir):\n",
    "        task_dirs = [task for task in listdir(full_id_dir) if match(r\"tfMRI_(CARIT|GUESSING)_(AP|PA)\", task)]\n",
    "        dtseries_fns = []\n",
    "        dtseries_len = []\n",
    "        for task_dir in task_dirs:\n",
    "            dtseries_fn = [nii for nii in listdir('/'.join([full_id_dir, task_dir])) if match(pattern, nii)]\n",
    "            dtseries_len.append(len(dtseries_fn))\n",
    "            dtseries_fns.append(dtseries_fn)\n",
    "        rdf = pd.DataFrame({'Subject' : id_dir, 'task' : task_dirs, 'dtseries' : dtseries_fns, 'N' : dtseries_len})\n",
    "    else:\n",
    "        print(\"Warning, directory does not exist: \" + full_id_dir)\n",
    "        rdf = pd.DataFrame({'Subject' : id_dir, 'task' : None, 'dtseries' : None, 'N' : np.nan}, index=[0])\n",
    "    return(rdf)\n",
    "print('Checking dtseries for each CARIT and GUESSING task in each ID dir')\n",
    "dtseries_df_list = [check_dtseries(id_dir=id_dir, basedir=hcpdir) for id_dir in id_dirs]\n",
    "\n",
    "dtseries_df = pd.concat(dtseries_df_list)\n",
    "print('Exporting list of missing DTSeries...')\n",
    "dtseries_df[dtseries_df.N == 0].to_csv('missing_dtseries.txt', sep = ' ', header = True, index = False)\n"
   ]
  },
  {
   "cell_type": "code",
   "execution_count": 54,
   "metadata": {},
   "outputs": [],
   "source": [
    "missing_subs = dtseries_df[dtseries_df.N == 0].loc[:, 'id_dir'].drop_duplicates().str.replace('_.*_.*$', '')\n",
    "missing_subs.to_csv('missing_dtseries_subs.txt', sep = ' ', header = True, index = False)"
   ]
  },
  {
   "cell_type": "code",
   "execution_count": 55,
   "metadata": {},
   "outputs": [
    {
     "data": {
      "text/plain": [
       "2    HCD1042223\n",
       "2    HCD0574756\n",
       "0    HCD2217742\n",
       "2    HCD0336841\n",
       "2    HCD0921347\n",
       "0    HCD1703140\n",
       "0    HCD2669575\n",
       "1    HCD1527045\n",
       "0    HCD0225529\n",
       "2    HCD0679770\n",
       "0    HCD0363743\n",
       "2    HCD1945164\n",
       "2    HCD1857066\n",
       "3    HCD2679073\n",
       "0    HCD0295954\n",
       "0    HCD0714443\n",
       "0    HCD0719352\n",
       "0    HCD0949874\n",
       "1    HCD0957368\n",
       "0    HCD0980262\n",
       "0    HCD1022722\n",
       "0    HCD1395458\n",
       "0    HCD1444142\n",
       "0    HCD1546857\n",
       "0    HCD1658565\n",
       "0    HCD1734858\n",
       "0    HCD1798985\n",
       "1    HCD1959680\n",
       "0    HCD2322335\n",
       "2    HCD2332136\n",
       "0    HCD2600034\n",
       "0    HCD2617657\n",
       "0    HCD2635659\n",
       "0    HCD2662763\n",
       "0    HCD2748672\n",
       "1    HCD2995083\n",
       "Name: id_dir, dtype: object"
      ]
     },
     "execution_count": 55,
     "metadata": {},
     "output_type": "execute_result"
    }
   ],
   "source": [
    "missing_subs"
   ]
  }
 ],
 "metadata": {
  "kernelspec": {
   "display_name": "Python [conda env:.conda-hcpl]",
   "language": "python",
   "name": "conda-env-.conda-hcpl-py"
  },
  "language_info": {
   "codemirror_mode": {
    "name": "ipython",
    "version": 3
   },
   "file_extension": ".py",
   "mimetype": "text/x-python",
   "name": "python",
   "nbconvert_exporter": "python",
   "pygments_lexer": "ipython3",
   "version": "3.7.7"
  }
 },
 "nbformat": 4,
 "nbformat_minor": 2
}
