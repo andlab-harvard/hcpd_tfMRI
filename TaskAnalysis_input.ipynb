{
 "cells": [
  {
   "cell_type": "code",
   "execution_count": 1,
   "metadata": {},
   "outputs": [
    {
     "name": "stdout",
     "output_type": "stream",
     "text": [
      "Getting ID dirs\n"
     ]
    }
   ],
   "source": [
    "from os import walk, listdir, path\n",
    "from re import match\n",
    "import pandas as pd\n",
    "hcpdir='/ncf/hcp/data/HCD-tfMRI-MultiRunFix'\n",
    "print('Getting ID dirs')\n",
    "id_dirs=[adir for adir in listdir(hcpdir) if match(r\"HCD[0-9]{7}_V1_MR\", adir)]"
   ]
  },
  {
   "cell_type": "code",
   "execution_count": 14,
   "metadata": {},
   "outputs": [],
   "source": [
    "def get_CARIT_dirs(id_dir, basedir):\n",
    "    dirpostfix='MNINonLinear/Results'\n",
    "    full_id_dir='/'.join([hcpdir,id_dir, dirpostfix])\n",
    "    if path.isdir(full_id_dir):\n",
    "        carit_dirs='@'.join([carit for carit in listdir(full_id_dir) if match(r\"tfMRI_CARIT_(AP|PA)\", carit)])\n",
    "    else:\n",
    "        print(\"Warning, directory does not exist: \" + full_id_dir)\n",
    "        carit_dirs=''\n",
    "    return(carit_dirs)"
   ]
  },
  {
   "cell_type": "code",
   "execution_count": 15,
   "metadata": {},
   "outputs": [
    {
     "data": {
      "text/plain": [
       "'tfMRI_CARIT_AP@tfMRI_CARIT_PA'"
      ]
     },
     "execution_count": 15,
     "metadata": {},
     "output_type": "execute_result"
    }
   ],
   "source": [
    "[id for id in id_dirs if id == \"HCD2996590_V1_MR\"]\n",
    "listdir('/'.join([hcpdir, \"HCD2996590_V1_MR/MNINonLinear/Results\"]))\n",
    "get_CARIT_dirs(\"HCD2996590_V1_MR\", hcpdir)"
   ]
  },
  {
   "cell_type": "code",
   "execution_count": null,
   "metadata": {},
   "outputs": [],
   "source": [
    "print('Getting CARIT dirs for each ID dir')\n",
    "carit_dirs=[get_CARIT_dirs(id_dir=id_dir, basedir=hcpdir) for id_dir in id_dirs]\n",
    "print('Saving results...')\n",
    "input_df=pd.DataFrame(data = {'id' : id_dirs, 'task' : carit_dirs, 'l2' : \"tfMRI_CARIT\"})\n",
    "input_df[input_df.task != ''].to_csv('TaskAnalysis_input.txt', sep = ' ', header = False, index = False)"
   ]
  }
 ],
 "metadata": {
  "kernelspec": {
   "display_name": "Python 3",
   "language": "python",
   "name": "python3"
  },
  "language_info": {
   "codemirror_mode": {
    "name": "ipython",
    "version": 3
   },
   "file_extension": ".py",
   "mimetype": "text/x-python",
   "name": "python",
   "nbconvert_exporter": "python",
   "pygments_lexer": "ipython3",
   "version": "3.7.7"
  }
 },
 "nbformat": 4,
 "nbformat_minor": 4
}
